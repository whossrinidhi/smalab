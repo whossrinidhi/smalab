{
  "nbformat": 4,
  "nbformat_minor": 0,
  "metadata": {
    "colab": {
      "provenance": []
    },
    "kernelspec": {
      "name": "python3",
      "display_name": "Python 3"
    },
    "language_info": {
      "name": "python"
    }
  },
  "cells": [
    {
      "cell_type": "code",
      "execution_count": null,
      "metadata": {
        "colab": {
          "base_uri": "https://localhost:8080/"
        },
        "id": "6m_vCgq1o1XR",
        "outputId": "1c43f55f-0253-43ca-c2e1-7bf7135d1fa3"
      },
      "outputs": [
        {
          "output_type": "stream",
          "name": "stdout",
          "text": [
            "Collecting praw\n",
            "  Downloading praw-7.8.1-py3-none-any.whl.metadata (9.4 kB)\n",
            "Collecting prawcore<3,>=2.4 (from praw)\n",
            "  Downloading prawcore-2.4.0-py3-none-any.whl.metadata (5.0 kB)\n",
            "Collecting update_checker>=0.18 (from praw)\n",
            "  Downloading update_checker-0.18.0-py3-none-any.whl.metadata (2.3 kB)\n",
            "Requirement already satisfied: websocket-client>=0.54.0 in /usr/local/lib/python3.11/dist-packages (from praw) (1.8.0)\n",
            "Requirement already satisfied: requests<3.0,>=2.6.0 in /usr/local/lib/python3.11/dist-packages (from prawcore<3,>=2.4->praw) (2.32.3)\n",
            "Requirement already satisfied: charset-normalizer<4,>=2 in /usr/local/lib/python3.11/dist-packages (from requests<3.0,>=2.6.0->prawcore<3,>=2.4->praw) (3.4.1)\n",
            "Requirement already satisfied: idna<4,>=2.5 in /usr/local/lib/python3.11/dist-packages (from requests<3.0,>=2.6.0->prawcore<3,>=2.4->praw) (3.10)\n",
            "Requirement already satisfied: urllib3<3,>=1.21.1 in /usr/local/lib/python3.11/dist-packages (from requests<3.0,>=2.6.0->prawcore<3,>=2.4->praw) (2.3.0)\n",
            "Requirement already satisfied: certifi>=2017.4.17 in /usr/local/lib/python3.11/dist-packages (from requests<3.0,>=2.6.0->prawcore<3,>=2.4->praw) (2025.1.31)\n",
            "Downloading praw-7.8.1-py3-none-any.whl (189 kB)\n",
            "\u001b[2K   \u001b[90m━━━━━━━━━━━━━━━━━━━━━━━━━━━━━━━━━━━━━━━━\u001b[0m \u001b[32m189.3/189.3 kB\u001b[0m \u001b[31m4.3 MB/s\u001b[0m eta \u001b[36m0:00:00\u001b[0m\n",
            "\u001b[?25hDownloading prawcore-2.4.0-py3-none-any.whl (17 kB)\n",
            "Downloading update_checker-0.18.0-py3-none-any.whl (7.0 kB)\n",
            "Installing collected packages: update_checker, prawcore, praw\n",
            "Successfully installed praw-7.8.1 prawcore-2.4.0 update_checker-0.18.0\n"
          ]
        }
      ],
      "source": [
        "pip install praw\n"
      ]
    },
    {
      "cell_type": "code",
      "source": [
        "import praw\n",
        "\n",
        "# Replace with your actual credentials\n",
        "client_id = 'SwiZpLVMOf9z_XTpJCF0pA'\n",
        "client_secret = 'L2xq30TATixyLbVAgO3VdD1YNchU2A'\n",
        "user_agent = 'MyRedditApp/1.0 by KnownComplaint82'\n",
        "\n",
        "# Create Reddit instance\n",
        "reddit = praw.Reddit(\n",
        "    client_id=client_id,\n",
        "    client_secret=client_secret,\n",
        "    user_agent=user_agent\n",
        ")\n",
        "\n",
        "# Access the subreddit\n",
        "subreddit = reddit.subreddit(\"python\")\n",
        "\n",
        "# Fetch and print the top 10 posts (only titles and upvotes)\n",
        "for post in subreddit.hot(limit=10):\n",
        "    author = post.author.name if post.author else 'Deleted'\n",
        "    print(f\"Title: {post.title}\\nUpvotes: {post.score}\\nPosted by: {author}\\n\")\n"
      ],
      "metadata": {
        "colab": {
          "base_uri": "https://localhost:8080/"
        },
        "id": "bc0rN9r6u_RI",
        "outputId": "fd9cc24b-94ef-448a-f9e8-8d7a2efd1482"
      },
      "execution_count": null,
      "outputs": [
        {
          "output_type": "stream",
          "name": "stderr",
          "text": [
            "WARNING:praw:It appears that you are using PRAW in an asynchronous environment.\n",
            "It is strongly recommended to use Async PRAW: https://asyncpraw.readthedocs.io.\n",
            "See https://praw.readthedocs.io/en/latest/getting_started/multiple_instances.html#discord-bots-and-asynchronous-environments for more info.\n",
            "\n"
          ]
        },
        {
          "output_type": "stream",
          "name": "stdout",
          "text": [
            "Title: Sunday Daily Thread: What's everyone working on this week?\n",
            "Upvotes: 1\n",
            "Posted by: AutoModerator\n",
            "\n",
            "Title: Wednesday Daily Thread: Beginner questions\n",
            "Upvotes: 2\n",
            "Posted by: AutoModerator\n",
            "\n",
            "Title: Advanced Alchemy 1.0 - A framework agnostic library for SQLAlchemy\n",
            "Upvotes: 37\n",
            "Posted by: cofin_\n",
            "\n",
            "Title: CPython's optimization for doubly linked lists in deque (amortizes 200% link memory overhead)\n",
            "Upvotes: 104\n",
            "Posted by: _byl\n",
            "\n",
            "Title: Declarative GUI toolkit - Slint 1.11 upgrades Python Bindings to Beta 🚀\n",
            "Upvotes: 11\n",
            "Posted by: slint-ui\n",
            "\n",
            "Title: HsdPy: A Python Library for Vector Similarity with SIMD Acceleration\n",
            "Upvotes: 5\n",
            "Posted by: No_Pomegranate7508\n",
            "\n",
            "Title: Goombay: For all your sequence alignment needs\n",
            "Upvotes: 2\n",
            "Posted by: Kind-Kure\n",
            "\n",
            "Title: 1,000 Python exercises\n",
            "Upvotes: 107\n",
            "Posted by: Overall_Ad_7178\n",
            "\n",
            "Title: faceit-python: Strongly Typed Python Client for the FACEIT API\n",
            "Upvotes: 19\n",
            "Posted by: GiraffeLarge9085\n",
            "\n",
            "Title: lsoph - a TUI for viewing file access by a process\n",
            "Upvotes: 16\n",
            "Posted by: david-song\n",
            "\n"
          ]
        }
      ]
    },
    {
      "cell_type": "code",
      "source": [],
      "metadata": {
        "id": "26K6zLGVwjIE"
      },
      "execution_count": null,
      "outputs": []
    }
  ]
}