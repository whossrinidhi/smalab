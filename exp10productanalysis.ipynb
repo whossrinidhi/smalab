{
  "nbformat": 4,
  "nbformat_minor": 0,
  "metadata": {
    "colab": {
      "provenance": []
    },
    "kernelspec": {
      "name": "python3",
      "display_name": "Python 3"
    },
    "language_info": {
      "name": "python"
    }
  },
  "cells": [
    {
      "cell_type": "code",
      "execution_count": null,
      "metadata": {
        "colab": {
          "base_uri": "https://localhost:8080/"
        },
        "id": "DePKoZ6vmqvB",
        "outputId": "a6d39d6b-2e66-49c1-d228-ac24425f0d12"
      },
      "outputs": [
        {
          "output_type": "stream",
          "name": "stdout",
          "text": [
            "Requirement already satisfied: praw in /usr/local/lib/python3.11/dist-packages (7.8.1)\n",
            "Requirement already satisfied: prawcore<3,>=2.4 in /usr/local/lib/python3.11/dist-packages (from praw) (2.4.0)\n",
            "Requirement already satisfied: update_checker>=0.18 in /usr/local/lib/python3.11/dist-packages (from praw) (0.18.0)\n",
            "Requirement already satisfied: websocket-client>=0.54.0 in /usr/local/lib/python3.11/dist-packages (from praw) (1.8.0)\n",
            "Requirement already satisfied: requests<3.0,>=2.6.0 in /usr/local/lib/python3.11/dist-packages (from prawcore<3,>=2.4->praw) (2.32.3)\n",
            "Requirement already satisfied: charset-normalizer<4,>=2 in /usr/local/lib/python3.11/dist-packages (from requests<3.0,>=2.6.0->prawcore<3,>=2.4->praw) (3.4.1)\n",
            "Requirement already satisfied: idna<4,>=2.5 in /usr/local/lib/python3.11/dist-packages (from requests<3.0,>=2.6.0->prawcore<3,>=2.4->praw) (3.10)\n",
            "Requirement already satisfied: urllib3<3,>=1.21.1 in /usr/local/lib/python3.11/dist-packages (from requests<3.0,>=2.6.0->prawcore<3,>=2.4->praw) (2.3.0)\n",
            "Requirement already satisfied: certifi>=2017.4.17 in /usr/local/lib/python3.11/dist-packages (from requests<3.0,>=2.6.0->prawcore<3,>=2.4->praw) (2025.1.31)\n"
          ]
        }
      ],
      "source": [
        "pip install praw\n"
      ]
    },
    {
      "cell_type": "code",
      "source": [
        "import praw\n",
        "\n",
        "client_id = ''\n",
        "client_secret = ''\n",
        "user_agent = 'MyRedditApp/1.0 by yourusername'\n",
        "\n",
        "# Create a Reddit instance\n",
        "reddit = praw.Reddit(\n",
        "    client_id=client_id,\n",
        "    client_secret=client_secret,\n",
        "    user_agent=user_agent\n",
        ")\n"
      ],
      "metadata": {
        "id": "r3ly8lQVnNtc"
      },
      "execution_count": null,
      "outputs": []
    },
    {
      "cell_type": "code",
      "source": [
        "# Search for posts mentioning \"GTX 4050\" in India\n",
        "search_term = \"GTX 4050 India\"\n",
        "subreddit = reddit.subreddit(\"india\")  # Or you can use \"technology\" or a combination of subreddits\n",
        "\n",
        "# Fetch the top 10 posts related to GTX 4050 in India\n",
        "posts = subreddit.search(search_term, limit=10)\n",
        "\n",
        "for post in posts:\n",
        "    print(f\"Title: {post.title}\")\n",
        "    print(f\"Upvotes: {post.ups}\")\n",
        "    print(f\"Comments Count: {post.num_comments}\")\n",
        "    print(f\"URL: {post.url}\")\n",
        "    print(\"-\" * 50)\n"
      ],
      "metadata": {
        "colab": {
          "base_uri": "https://localhost:8080/"
        },
        "id": "vPPIKIHJnVue",
        "outputId": "10d1c115-5e10-4e46-a470-9a39aa15efd4"
      },
      "execution_count": null,
      "outputs": [
        {
          "output_type": "stream",
          "name": "stderr",
          "text": [
            "WARNING:praw:It appears that you are using PRAW in an asynchronous environment.\n",
            "It is strongly recommended to use Async PRAW: https://asyncpraw.readthedocs.io.\n",
            "See https://praw.readthedocs.io/en/latest/getting_started/multiple_instances.html#discord-bots-and-asynchronous-environments for more info.\n",
            "\n"
          ]
        },
        {
          "output_type": "stream",
          "name": "stdout",
          "text": [
            "Title: Gamers of India, what are your specs and what do you play?\n",
            "Upvotes: 39\n",
            "Comments Count: 205\n",
            "URL: https://www.reddit.com/r/india/comments/4onk8m/gamers_of_india_what_are_your_specs_and_what_do/\n",
            "--------------------------------------------------\n",
            "Title: I have been looking for a laptop, I would love some input from r/india\n",
            "Upvotes: 30\n",
            "Comments Count: 35\n",
            "URL: https://www.reddit.com/r/india/comments/k3rkb2/i_have_been_looking_for_a_laptop_i_would_love/\n",
            "--------------------------------------------------\n",
            "Title: PCMR of India, what are your desktop specs and how much did it cost?\n",
            "Upvotes: 30\n",
            "Comments Count: 59\n",
            "URL: https://www.reddit.com/r/india/comments/4s0tev/pcmr_of_india_what_are_your_desktop_specs_and_how/\n",
            "--------------------------------------------------\n",
            "Title: Laptop suggestions\n",
            "Upvotes: 1\n",
            "Comments Count: 30\n",
            "URL: https://www.reddit.com/r/india/comments/hfj6o6/laptop_suggestions/\n",
            "--------------------------------------------------\n",
            "Title: Should I buy a gaming laptop or build a pc?\n",
            "Upvotes: 12\n",
            "Comments Count: 40\n",
            "URL: https://www.reddit.com/r/india/comments/7vv8p3/should_i_buy_a_gaming_laptop_or_build_a_pc/\n",
            "--------------------------------------------------\n",
            "Title: [PC Build Help] Can I get anything better than what I already have decided to get?\n",
            "Upvotes: 15\n",
            "Comments Count: 45\n",
            "URL: https://www.reddit.com/r/india/comments/4rkye3/pc_build_help_can_i_get_anything_better_than_what/\n",
            "--------------------------------------------------\n",
            "Title: Gamers of r/india, need advice and suggestions.\n",
            "Upvotes: 23\n",
            "Comments Count: 42\n",
            "URL: https://www.reddit.com/r/india/comments/4i8so8/gamers_of_rindia_need_advice_and_suggestions/\n",
            "--------------------------------------------------\n",
            "Title: Is it worth buying a play station5 ? Or should i go with a gaming laptop?\n",
            "Upvotes: 10\n",
            "Comments Count: 20\n",
            "URL: https://www.reddit.com/r/india/comments/jzjwpb/is_it_worth_buying_a_play_station5_or_should_i_go/\n",
            "--------------------------------------------------\n",
            "Title: Why are graphics card so expensive in India?\n",
            "Upvotes: 24\n",
            "Comments Count: 28\n",
            "URL: https://www.reddit.com/r/india/comments/adsqa8/why_are_graphics_card_so_expensive_in_india/\n",
            "--------------------------------------------------\n",
            "Title: That's how they launched the xBox One in India - Creating a wholr projection of the logo over the Taj. [NP]\n",
            "Upvotes: 35\n",
            "Comments Count: 40\n",
            "URL: http://imgur.com/HNtNcxN\n",
            "--------------------------------------------------\n"
          ]
        }
      ]
    },
    {
      "cell_type": "code",
      "source": [
        "pip install textblob\n"
      ],
      "metadata": {
        "colab": {
          "base_uri": "https://localhost:8080/"
        },
        "id": "KCGscrqIngO-",
        "outputId": "6b56cdce-17ee-40d7-9e50-e15e7abb88cf"
      },
      "execution_count": null,
      "outputs": [
        {
          "output_type": "stream",
          "name": "stdout",
          "text": [
            "Requirement already satisfied: textblob in /usr/local/lib/python3.11/dist-packages (0.19.0)\n",
            "Requirement already satisfied: nltk>=3.9 in /usr/local/lib/python3.11/dist-packages (from textblob) (3.9.1)\n",
            "Requirement already satisfied: click in /usr/local/lib/python3.11/dist-packages (from nltk>=3.9->textblob) (8.1.8)\n",
            "Requirement already satisfied: joblib in /usr/local/lib/python3.11/dist-packages (from nltk>=3.9->textblob) (1.4.2)\n",
            "Requirement already satisfied: regex>=2021.8.3 in /usr/local/lib/python3.11/dist-packages (from nltk>=3.9->textblob) (2024.11.6)\n",
            "Requirement already satisfied: tqdm in /usr/local/lib/python3.11/dist-packages (from nltk>=3.9->textblob) (4.67.1)\n"
          ]
        }
      ]
    },
    {
      "cell_type": "code",
      "source": [
        "import praw\n",
        "from textblob import TextBlob\n",
        "import matplotlib.pyplot as plt\n",
        "from collections import Counter\n",
        "import re\n",
        "\n",
        "\n",
        "# Search for posts mentioning \"GTX 4050 India\"\n",
        "search_term = \"GTX 4050 India\"\n",
        "subreddit = reddit.subreddit(\"india\")  # Replace with your preferred subreddit\n",
        "\n",
        "# Fetch the top 10 posts related to GTX 4050 in India\n",
        "posts = subreddit.search(search_term, limit=10)\n",
        "\n",
        "# Initialize counters for sentiment analysis\n",
        "positive_comments = 0\n",
        "negative_comments = 0\n",
        "neutral_comments = 0\n",
        "all_comments_text = \"\"\n",
        "\n",
        "# Loop through each post\n",
        "for post in posts:\n",
        "    print(f\"Analyzing Post: {post.title}\")\n",
        "    post.comments.replace_more(limit=None)  # Replace \"MoreComments\" objects\n",
        "\n",
        "    # Analyze sentiment of each comment\n",
        "    for comment in post.comments.list():\n",
        "        analysis = TextBlob(comment.body)\n",
        "        sentiment = analysis.sentiment.polarity  # Get the polarity score\n",
        "\n",
        "        # Classify sentiment based on polarity\n",
        "        if sentiment > 0:\n",
        "            positive_comments += 1\n",
        "        elif sentiment < 0:\n",
        "            negative_comments += 1\n",
        "        else:\n",
        "            neutral_comments += 1\n",
        "\n",
        "        # Collect all comments for word frequency analysis\n",
        "        all_comments_text += comment.body + \" \"\n",
        "\n",
        "# Display sentiment results\n",
        "print(f\"Positive Comments: {positive_comments}\")\n",
        "print(f\"Negative Comments: {negative_comments}\")\n",
        "print(f\"Neutral Comments: {neutral_comments}\")\n",
        "\n",
        "# Visualizing the Sentiment Distribution\n",
        "sentiments = [\"Positive\", \"Negative\", \"Neutral\"]\n",
        "counts = [positive_comments, negative_comments, neutral_comments]\n",
        "\n",
        "plt.bar(sentiments, counts, color=['green', 'red', 'blue'])\n",
        "plt.title(\"Sentiment Distribution for GTX 4050 Discussions in India\")\n",
        "plt.xlabel(\"Sentiment\")\n",
        "plt.ylabel(\"Number of Comments\")\n",
        "plt.show()\n",
        "\n",
        "\n"
      ],
      "metadata": {
        "colab": {
          "base_uri": "https://localhost:8080/",
          "height": 1000
        },
        "id": "Ib9PhK0qnjF2",
        "outputId": "1f2ecca7-07ba-47af-dc42-d5ec73ca04c5"
      },
      "execution_count": null,
      "outputs": [
        {
          "output_type": "stream",
          "name": "stderr",
          "text": [
            "WARNING:praw:It appears that you are using PRAW in an asynchronous environment.\n",
            "It is strongly recommended to use Async PRAW: https://asyncpraw.readthedocs.io.\n",
            "See https://praw.readthedocs.io/en/latest/getting_started/multiple_instances.html#discord-bots-and-asynchronous-environments for more info.\n",
            "\n",
            "WARNING:praw:It appears that you are using PRAW in an asynchronous environment.\n",
            "It is strongly recommended to use Async PRAW: https://asyncpraw.readthedocs.io.\n",
            "See https://praw.readthedocs.io/en/latest/getting_started/multiple_instances.html#discord-bots-and-asynchronous-environments for more info.\n",
            "\n"
          ]
        },
        {
          "output_type": "stream",
          "name": "stdout",
          "text": [
            "Analyzing Post: Gamers of India, what are your specs and what do you play?\n"
          ]
        },
        {
          "output_type": "stream",
          "name": "stderr",
          "text": [
            "WARNING:praw:It appears that you are using PRAW in an asynchronous environment.\n",
            "It is strongly recommended to use Async PRAW: https://asyncpraw.readthedocs.io.\n",
            "See https://praw.readthedocs.io/en/latest/getting_started/multiple_instances.html#discord-bots-and-asynchronous-environments for more info.\n",
            "\n"
          ]
        },
        {
          "output_type": "stream",
          "name": "stdout",
          "text": [
            "Analyzing Post: I have been looking for a laptop, I would love some input from r/india\n"
          ]
        },
        {
          "output_type": "stream",
          "name": "stderr",
          "text": [
            "WARNING:praw:It appears that you are using PRAW in an asynchronous environment.\n",
            "It is strongly recommended to use Async PRAW: https://asyncpraw.readthedocs.io.\n",
            "See https://praw.readthedocs.io/en/latest/getting_started/multiple_instances.html#discord-bots-and-asynchronous-environments for more info.\n",
            "\n"
          ]
        },
        {
          "output_type": "stream",
          "name": "stdout",
          "text": [
            "Analyzing Post: PCMR of India, what are your desktop specs and how much did it cost?\n"
          ]
        },
        {
          "output_type": "stream",
          "name": "stderr",
          "text": [
            "WARNING:praw:It appears that you are using PRAW in an asynchronous environment.\n",
            "It is strongly recommended to use Async PRAW: https://asyncpraw.readthedocs.io.\n",
            "See https://praw.readthedocs.io/en/latest/getting_started/multiple_instances.html#discord-bots-and-asynchronous-environments for more info.\n",
            "\n"
          ]
        },
        {
          "output_type": "stream",
          "name": "stdout",
          "text": [
            "Analyzing Post: Laptop suggestions\n"
          ]
        },
        {
          "output_type": "stream",
          "name": "stderr",
          "text": [
            "WARNING:praw:It appears that you are using PRAW in an asynchronous environment.\n",
            "It is strongly recommended to use Async PRAW: https://asyncpraw.readthedocs.io.\n",
            "See https://praw.readthedocs.io/en/latest/getting_started/multiple_instances.html#discord-bots-and-asynchronous-environments for more info.\n",
            "\n"
          ]
        },
        {
          "output_type": "stream",
          "name": "stdout",
          "text": [
            "Analyzing Post: Should I buy a gaming laptop or build a pc?\n"
          ]
        },
        {
          "output_type": "stream",
          "name": "stderr",
          "text": [
            "WARNING:praw:It appears that you are using PRAW in an asynchronous environment.\n",
            "It is strongly recommended to use Async PRAW: https://asyncpraw.readthedocs.io.\n",
            "See https://praw.readthedocs.io/en/latest/getting_started/multiple_instances.html#discord-bots-and-asynchronous-environments for more info.\n",
            "\n"
          ]
        },
        {
          "output_type": "stream",
          "name": "stdout",
          "text": [
            "Analyzing Post: [PC Build Help] Can I get anything better than what I already have decided to get?\n"
          ]
        },
        {
          "output_type": "stream",
          "name": "stderr",
          "text": [
            "WARNING:praw:It appears that you are using PRAW in an asynchronous environment.\n",
            "It is strongly recommended to use Async PRAW: https://asyncpraw.readthedocs.io.\n",
            "See https://praw.readthedocs.io/en/latest/getting_started/multiple_instances.html#discord-bots-and-asynchronous-environments for more info.\n",
            "\n"
          ]
        },
        {
          "output_type": "stream",
          "name": "stdout",
          "text": [
            "Analyzing Post: Gamers of r/india, need advice and suggestions.\n"
          ]
        },
        {
          "output_type": "stream",
          "name": "stderr",
          "text": [
            "WARNING:praw:It appears that you are using PRAW in an asynchronous environment.\n",
            "It is strongly recommended to use Async PRAW: https://asyncpraw.readthedocs.io.\n",
            "See https://praw.readthedocs.io/en/latest/getting_started/multiple_instances.html#discord-bots-and-asynchronous-environments for more info.\n",
            "\n"
          ]
        },
        {
          "output_type": "stream",
          "name": "stdout",
          "text": [
            "Analyzing Post: Is it worth buying a play station5 ? Or should i go with a gaming laptop?\n"
          ]
        },
        {
          "output_type": "stream",
          "name": "stderr",
          "text": [
            "WARNING:praw:It appears that you are using PRAW in an asynchronous environment.\n",
            "It is strongly recommended to use Async PRAW: https://asyncpraw.readthedocs.io.\n",
            "See https://praw.readthedocs.io/en/latest/getting_started/multiple_instances.html#discord-bots-and-asynchronous-environments for more info.\n",
            "\n"
          ]
        },
        {
          "output_type": "stream",
          "name": "stdout",
          "text": [
            "Analyzing Post: Why are graphics card so expensive in India?\n"
          ]
        },
        {
          "output_type": "stream",
          "name": "stderr",
          "text": [
            "WARNING:praw:It appears that you are using PRAW in an asynchronous environment.\n",
            "It is strongly recommended to use Async PRAW: https://asyncpraw.readthedocs.io.\n",
            "See https://praw.readthedocs.io/en/latest/getting_started/multiple_instances.html#discord-bots-and-asynchronous-environments for more info.\n",
            "\n"
          ]
        },
        {
          "output_type": "stream",
          "name": "stdout",
          "text": [
            "Analyzing Post: That's how they launched the xBox One in India - Creating a wholr projection of the logo over the Taj. [NP]\n"
          ]
        },
        {
          "output_type": "stream",
          "name": "stderr",
          "text": [
            "WARNING:praw:It appears that you are using PRAW in an asynchronous environment.\n",
            "It is strongly recommended to use Async PRAW: https://asyncpraw.readthedocs.io.\n",
            "See https://praw.readthedocs.io/en/latest/getting_started/multiple_instances.html#discord-bots-and-asynchronous-environments for more info.\n",
            "\n",
            "WARNING:praw:It appears that you are using PRAW in an asynchronous environment.\n",
            "It is strongly recommended to use Async PRAW: https://asyncpraw.readthedocs.io.\n",
            "See https://praw.readthedocs.io/en/latest/getting_started/multiple_instances.html#discord-bots-and-asynchronous-environments for more info.\n",
            "\n"
          ]
        },
        {
          "output_type": "stream",
          "name": "stdout",
          "text": [
            "Positive Comments: 269\n",
            "Negative Comments: 89\n",
            "Neutral Comments: 194\n"
          ]
        },
        {
          "output_type": "display_data",
          "data": {
            "text/plain": [
              "<Figure size 640x480 with 1 Axes>"
            ],
            "image/png": "[encoded data removed]"
          },
          "metadata": {}
        }
      ]
    },
    {
      "cell_type": "code",
      "source": [
        "pip install nltk\n"
      ],
      "metadata": {
        "colab": {
          "base_uri": "https://localhost:8080/"
        },
        "id": "2jckFA0poDaL",
        "outputId": "5c2f83ab-2fd6-4ce6-d3a3-ff0ca9220e1f"
      },
      "execution_count": null,
      "outputs": [
        {
          "output_type": "stream",
          "name": "stdout",
          "text": [
            "Requirement already satisfied: nltk in /usr/local/lib/python3.11/dist-packages (3.9.1)\n",
            "Requirement already satisfied: click in /usr/local/lib/python3.11/dist-packages (from nltk) (8.1.8)\n",
            "Requirement already satisfied: joblib in /usr/local/lib/python3.11/dist-packages (from nltk) (1.4.2)\n",
            "Requirement already satisfied: regex>=2021.8.3 in /usr/local/lib/python3.11/dist-packages (from nltk) (2024.11.6)\n",
            "Requirement already satisfied: tqdm in /usr/local/lib/python3.11/dist-packages (from nltk) (4.67.1)\n"
          ]
        }
      ]
    },
    {
      "cell_type": "code",
      "source": [
        "pip install vaderSentiment"
      ],
      "metadata": {
        "colab": {
          "base_uri": "https://localhost:8080/"
        },
        "id": "yOIrI8eKpLFM",
        "outputId": "cab6c873-ab2d-450e-f97c-26d79ac292cf"
      },
      "execution_count": null,
      "outputs": [
        {
          "output_type": "stream",
          "name": "stdout",
          "text": [
            "Collecting vaderSentiment\n",
            "  Downloading vaderSentiment-3.3.2-py2.py3-none-any.whl.metadata (572 bytes)\n",
            "Requirement already satisfied: requests in /usr/local/lib/python3.11/dist-packages (from vaderSentiment) (2.32.3)\n",
            "Requirement already satisfied: charset-normalizer<4,>=2 in /usr/local/lib/python3.11/dist-packages (from requests->vaderSentiment) (3.4.1)\n",
            "Requirement already satisfied: idna<4,>=2.5 in /usr/local/lib/python3.11/dist-packages (from requests->vaderSentiment) (3.10)\n",
            "Requirement already satisfied: urllib3<3,>=1.21.1 in /usr/local/lib/python3.11/dist-packages (from requests->vaderSentiment) (2.3.0)\n",
            "Requirement already satisfied: certifi>=2017.4.17 in /usr/local/lib/python3.11/dist-packages (from requests->vaderSentiment) (2025.1.31)\n",
            "Downloading vaderSentiment-3.3.2-py2.py3-none-any.whl (125 kB)\n",
            "\u001b[2K   \u001b[90m━━━━━━━━━━━━━━━━━━━━━━━━━━━━━━━━━━━━━━━━\u001b[0m \u001b[32m126.0/126.0 kB\u001b[0m \u001b[31m2.7 MB/s\u001b[0m eta \u001b[36m0:00:00\u001b[0m\n",
            "\u001b[?25hInstalling collected packages: vaderSentiment\n",
            "Successfully installed vaderSentiment-3.3.2\n"
          ]
        }
      ]
    },
    {
      "cell_type": "markdown",
      "source": [],
      "metadata": {
        "id": "CMckv1xKpmue"
      }
    },
    {
      "cell_type": "code",
      "source": [
        "import nltk\n",
        "nltk.download('punkt')"
      ],
      "metadata": {
        "colab": {
          "base_uri": "https://localhost:8080/"
        },
        "id": "kDsAqiVdqIXq",
        "outputId": "8d247e05-d891-4be1-9d08-8849bdb29ec8"
      },
      "execution_count": null,
      "outputs": [
        {
          "output_type": "stream",
          "name": "stderr",
          "text": [
            "[nltk_data] Downloading package punkt to /root/nltk_data...\n",
            "[nltk_data]   Package punkt is already up-to-date!\n"
          ]
        },
        {
          "output_type": "execute_result",
          "data": {
            "text/plain": [
              "True"
            ]
          },
          "metadata": {},
          "execution_count": 13
        }
      ]
    },
    {
      "cell_type": "code",
      "source": [
        "import nltk\n",
        "nltk.download('stopwords')"
      ],
      "metadata": {
        "colab": {
          "base_uri": "https://localhost:8080/"
        },
        "id": "bwRkJDXcqNc4",
        "outputId": "2336d0b9-3206-4b64-c66b-290c3da9d324"
      },
      "execution_count": null,
      "outputs": [
        {
          "output_type": "stream",
          "name": "stderr",
          "text": [
            "[nltk_data] Downloading package stopwords to /root/nltk_data...\n",
            "[nltk_data]   Package stopwords is already up-to-date!\n"
          ]
        },
        {
          "output_type": "execute_result",
          "data": {
            "text/plain": [
              "True"
            ]
          },
          "metadata": {},
          "execution_count": 14
        }
      ]
    },
    {
      "cell_type": "code",
      "source": [
        "import nltk\n",
        "nltk.download('vader_lexicon')\n"
      ],
      "metadata": {
        "colab": {
          "base_uri": "https://localhost:8080/"
        },
        "id": "rk-0NvUtqTgP",
        "outputId": "9efdbaf2-da24-4a6f-cadc-485eb5baa3ae"
      },
      "execution_count": null,
      "outputs": [
        {
          "output_type": "stream",
          "name": "stderr",
          "text": [
            "[nltk_data] Downloading package vader_lexicon to /root/nltk_data...\n",
            "[nltk_data]   Package vader_lexicon is already up-to-date!\n"
          ]
        },
        {
          "output_type": "execute_result",
          "data": {
            "text/plain": [
              "True"
            ]
          },
          "metadata": {},
          "execution_count": 15
        }
      ]
    },
    {
      "cell_type": "code",
      "source": [
        "import nltk\n",
        "nltk.download('punkt_tab')"
      ],
      "metadata": {
        "colab": {
          "base_uri": "https://localhost:8080/"
        },
        "id": "fd76yNkqqqc_",
        "outputId": "a9801874-16d8-4d45-8dc0-c127286624ea"
      },
      "execution_count": null,
      "outputs": [
        {
          "output_type": "stream",
          "name": "stderr",
          "text": [
            "[nltk_data] Downloading package punkt_tab to /root/nltk_data...\n",
            "[nltk_data]   Unzipping tokenizers/punkt_tab.zip.\n"
          ]
        },
        {
          "output_type": "execute_result",
          "data": {
            "text/plain": [
              "True"
            ]
          },
          "metadata": {},
          "execution_count": 19
        }
      ]
    },
    {
      "cell_type": "code",
      "source": [
        "import nltk\n",
        "from nltk.corpus import stopwords\n",
        "from nltk.tokenize import word_tokenize\n",
        "from nltk.sentiment.vader import SentimentIntensityAnalyzer\n",
        "import re\n",
        "\n",
        "# Download necessary NLTK resources\n",
        "nltk.download('stopwords')\n",
        "nltk.download('punkt')  # Download punkt for tokenization\n",
        "nltk.download('vader_lexicon')  # Download vader_lexicon for sentiment analysis\n",
        "\n",
        "# Define stop words\n",
        "stop_words = set(stopwords.words('english'))\n",
        "\n",
        "# Initialize Sentiment Intensity Analyzer (VADER)\n",
        "sia = SentimentIntensityAnalyzer()\n",
        "\n",
        "# Function to preprocess and filter out stopwords\n",
        "def preprocess(text):\n",
        "    # Remove non-alphabetic characters\n",
        "    cleaned_text = re.sub(r'\\W+', ' ', text.lower())\n",
        "    # Tokenize the text\n",
        "    tokens = word_tokenize(cleaned_text)\n",
        "    # Remove stopwords\n",
        "    filtered_tokens = [word for word in tokens if word not in stop_words]\n",
        "    return filtered_tokens\n",
        "\n",
        "# Function to analyze sentiment of the comment\n",
        "def analyze_sentiment(comment):\n",
        "    # Get sentiment score\n",
        "    sentiment_score = sia.polarity_scores(comment)\n",
        "    return sentiment_score['compound']\n",
        "\n",
        "# Function to get negative words (those from comments with negative sentiment)\n",
        "def get_negative_words(comments):\n",
        "    negative_words = []\n",
        "\n",
        "    for comment in comments:\n",
        "        # Preprocess the comment\n",
        "        filtered_tokens = preprocess(comment)\n",
        "\n",
        "        # Analyze sentiment of the comment\n",
        "        sentiment_score = analyze_sentiment(comment)\n",
        "\n",
        "        # If sentiment is negative, store the words\n",
        "        if sentiment_score < 0:  # Negative sentiment\n",
        "            negative_words.extend(filtered_tokens)\n",
        "\n",
        "    return negative_words\n",
        "\n",
        "# Sample list of comments (replace this with your actual Reddit comments)\n",
        "comments = [\n",
        "    \"The performance of the GTX 4050 is terrible. It keeps crashing.\",\n",
        "    \"I love the GTX 4050, great for gaming!\",\n",
        "    \"Price is too high for the performance, I expected better.\",\n",
        "    \"The drivers are terrible, it's always crashing my games.\",\n",
        "    \"Not worth the money, very disappointed.\"\n",
        "]\n",
        "\n",
        "# Get negative words from the comments\n",
        "negative_words = get_negative_words(comments)\n",
        "\n",
        "# Display the negative words and their frequencies\n",
        "from collections import Counter\n",
        "negative_word_counts = Counter(negative_words)\n",
        "\n",
        "print(\"Most common negative words:\")\n",
        "print(negative_word_counts.most_common(10))\n",
        "\n",
        "\n",
        "# Count the negative words and their frequencies\n",
        "negative_word_counts = Counter(negative_words)\n",
        "\n",
        "# Plotting the top 10 most common negative words\n",
        "top_negative_words = negative_word_counts.most_common(10)\n",
        "\n",
        "# Separate the words and their frequencies for plotting\n",
        "words, frequencies = zip(*top_negative_words)\n",
        "# Plot the bar graph\n",
        "plt.figure(figsize=(10, 6))\n",
        "plt.barh(words, frequencies, color='red')\n",
        "plt.xlabel('Frequency')\n",
        "plt.ylabel('Negative Words')\n",
        "plt.title('key issues')\n",
        "plt.gca().invert_yaxis()  # Invert y-axis to have the highest frequency at the top\n",
        "plt.show()\n"
      ],
      "metadata": {
        "colab": {
          "base_uri": "https://localhost:8080/",
          "height": 727
        },
        "id": "UoviG6JRqd4R",
        "outputId": "d8a4e840-9985-4787-8648-deb2a5c72112"
      },
      "execution_count": null,
      "outputs": [
        {
          "output_type": "stream",
          "name": "stdout",
          "text": [
            "Most common negative words:\n",
            "[('terrible', 2), ('crashing', 2), ('performance', 1), ('gtx', 1), ('4050', 1), ('keeps', 1), ('drivers', 1), ('always', 1), ('games', 1), ('worth', 1)]\n"
          ]
        },
        {
          "output_type": "stream",
          "name": "stderr",
          "text": [
            "[nltk_data] Downloading package stopwords to /root/nltk_data...\n",
            "[nltk_data]   Package stopwords is already up-to-date!\n",
            "[nltk_data] Downloading package punkt to /root/nltk_data...\n",
            "[nltk_data]   Package punkt is already up-to-date!\n",
            "[nltk_data] Downloading package vader_lexicon to /root/nltk_data...\n",
            "[nltk_data]   Package vader_lexicon is already up-to-date!\n"
          ]
        },
        {
          "output_type": "display_data",
          "data": {
            "text/plain": [
              "<Figure size 1000x600 with 1 Axes>"
            ],
            "image/png": "[encoded data removed]"
          },
          "metadata": {}
        }
      ]
    },
    {
      "cell_type": "code",
      "source": [],
      "metadata": {
        "id": "Q6WS06ixq29x"
      },
      "execution_count": null,
      "outputs": []
    }
  ]
}
