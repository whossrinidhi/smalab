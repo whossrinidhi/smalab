{
  "nbformat": 4,
  "nbformat_minor": 0,
  "metadata": {
    "colab": {
      "provenance": []
    },
    "kernelspec": {
      "name": "python3",
      "display_name": "Python 3"
    },
    "language_info": {
      "name": "python"
    }
  },
  "cells": [
    {
      "cell_type": "code",
      "execution_count": null,
      "metadata": {
        "colab": {
          "base_uri": "https://localhost:8080/"
        },
        "id": "vmxuJRl3lRQ_",
        "outputId": "cc7e4e62-b8c8-4475-824a-59957d1c2992"
      },
      "outputs": [
        {
          "output_type": "stream",
          "name": "stdout",
          "text": [
            "Collecting praw\n",
            "  Downloading praw-7.8.1-py3-none-any.whl.metadata (9.4 kB)\n",
            "Collecting prawcore<3,>=2.4 (from praw)\n",
            "  Downloading prawcore-2.4.0-py3-none-any.whl.metadata (5.0 kB)\n",
            "Collecting update_checker>=0.18 (from praw)\n",
            "  Downloading update_checker-0.18.0-py3-none-any.whl.metadata (2.3 kB)\n",
            "Requirement already satisfied: websocket-client>=0.54.0 in /usr/local/lib/python3.11/dist-packages (from praw) (1.8.0)\n",
            "Requirement already satisfied: requests<3.0,>=2.6.0 in /usr/local/lib/python3.11/dist-packages (from prawcore<3,>=2.4->praw) (2.32.3)\n",
            "Requirement already satisfied: charset-normalizer<4,>=2 in /usr/local/lib/python3.11/dist-packages (from requests<3.0,>=2.6.0->prawcore<3,>=2.4->praw) (3.4.1)\n",
            "Requirement already satisfied: idna<4,>=2.5 in /usr/local/lib/python3.11/dist-packages (from requests<3.0,>=2.6.0->prawcore<3,>=2.4->praw) (3.10)\n",
            "Requirement already satisfied: urllib3<3,>=1.21.1 in /usr/local/lib/python3.11/dist-packages (from requests<3.0,>=2.6.0->prawcore<3,>=2.4->praw) (2.3.0)\n",
            "Requirement already satisfied: certifi>=2017.4.17 in /usr/local/lib/python3.11/dist-packages (from requests<3.0,>=2.6.0->prawcore<3,>=2.4->praw) (2025.1.31)\n",
            "Downloading praw-7.8.1-py3-none-any.whl (189 kB)\n",
            "\u001b[2K   \u001b[90m━━━━━━━━━━━━━━━━━━━━━━━━━━━━━━━━━━━━━━━━\u001b[0m \u001b[32m189.3/189.3 kB\u001b[0m \u001b[31m6.7 MB/s\u001b[0m eta \u001b[36m0:00:00\u001b[0m\n",
            "\u001b[?25hDownloading prawcore-2.4.0-py3-none-any.whl (17 kB)\n",
            "Downloading update_checker-0.18.0-py3-none-any.whl (7.0 kB)\n",
            "Installing collected packages: update_checker, prawcore, praw\n",
            "Successfully installed praw-7.8.1 prawcore-2.4.0 update_checker-0.18.0\n"
          ]
        }
      ],
      "source": [
        "pip install praw"
      ]
    },
    {
      "cell_type": "code",
      "source": [
        "import praw\n",
        "\n",
        "client_id = 'SwiZpLVMOf9z_XTpJCF0pA'\n",
        "client_secret = 'L2xq30TATixyLbVAgO3VdD1YNchU2A'\n",
        "user_agent = 'MyRedditApp/1.0 by KnownComplaint82'\n",
        "\n",
        "# Create a Reddit instance\n",
        "reddit = praw.Reddit(\n",
        "    client_id=client_id,\n",
        "    client_secret=client_secret,\n",
        "    user_agent=user_agent\n",
        ")\n",
        "\n",
        "# Define the subreddit you want to monitor\n",
        "subreddit = reddit.subreddit('technology')  # Example: Replace with the relevant subreddit\n",
        "\n",
        "# Fetch the top 10 posts (or limit based on your needs)\n",
        "top_posts = subreddit.top(limit=10)\n",
        "\n",
        "for post in top_posts:\n",
        "    print(f\"Title: {post.title}\")\n",
        "    print(f\"Score: {post.score}\")\n",
        "    print(f\"URL: {post.url}\")\n",
        "    print(f\"Upvotes: {post.ups}\")\n",
        "    print(f\"Comments: {post.num_comments}\")\n",
        "    print(\"-\" * 50)\n"
      ],
      "metadata": {
        "colab": {
          "base_uri": "https://localhost:8080/"
        },
        "id": "tjVoKjx1lwJo",
        "outputId": "c659bdae-4997-452d-9a61-ac530fe57a8c"
      },
      "execution_count": null,
      "outputs": [
        {
          "output_type": "stream",
          "name": "stderr",
          "text": [
            "WARNING:praw:It appears that you are using PRAW in an asynchronous environment.\n",
            "It is strongly recommended to use Async PRAW: https://asyncpraw.readthedocs.io.\n",
            "See https://praw.readthedocs.io/en/latest/getting_started/multiple_instances.html#discord-bots-and-asynchronous-environments for more info.\n",
            "\n"
          ]
        },
        {
          "output_type": "stream",
          "name": "stdout",
          "text": [
            "Title: Hundreds of Subreddits Are Considering Banning All Links to X\n",
            "Score: 171707\n",
            "URL: https://www.404media.co/hundreds-of-subreddits-are-considering-banning-all-links-to-x/\n",
            "Upvotes: 171707\n",
            "Comments: 7020\n",
            "--------------------------------------------------\n",
            "Title: Reddit bans subreddit group \"r/DonaldTrump\"\n",
            "Score: 147258\n",
            "URL: https://www.axios.com/reddit-bans-rdonaldtrump-subreddit-ff1da2de-37ab-49cf-afbd-2012f806959e.html\n",
            "Upvotes: 147258\n",
            "Comments: 10287\n",
            "--------------------------------------------------\n",
            "Title: Congress has set out a bill to stop the FCC taking away our internet. PLEASE SPREAD THIS AS MUCH AS YOU CAN.\n",
            "Score: 140030\n",
            "URL: https://www.congress.gov/bill/115th-congress/house-bill/4585\n",
            "Upvotes: 140030\n",
            "Comments: 1540\n",
            "--------------------------------------------------\n",
            "Title: John Oliver Blackmails Congress With Their Own Digital Data - The ‘Last Week Tonight’ host paid shady brokers for lawmakers’ digital histories — promising not to release the info so long as Congress passes legislation protecting all consumers’ data\n",
            "Score: 133038\n",
            "URL: https://www.rollingstone.com/tv/tv-news/last-week-tonight-john-oliver-recap-season-9-episode-7-congress-data-1335598/\n",
            "Upvotes: 133038\n",
            "Comments: 5097\n",
            "--------------------------------------------------\n",
            "Title: California-based game company Blizzard bans pro esports player and confiscates his prize money after he voices support for Hong Kong protesters\n",
            "Score: 129871\n",
            "URL: https://www.businessinsider.com/blizzard-bans-esports-player-blitzchung-supporting-hong-kong-protests-interview-2019-10\n",
            "Upvotes: 129871\n",
            "Comments: 6915\n",
            "--------------------------------------------------\n",
            "Title: Joe Biden calls game developers \"little creeps\" who make titles that \"teach you how to kill\"\n",
            "Score: 128361\n",
            "URL: https://www.techspot.com/news/83623-joe-biden-calls-game-developers-little-creeps-who.html\n",
            "Upvotes: 128361\n",
            "Comments: 10172\n",
            "--------------------------------------------------\n",
            "Title: Hacker collective Anonymous declares 'cyber war' against Russia, disables state news website\n",
            "Score: 127475\n",
            "URL: https://www.abc.net.au/news/science/2022-02-25/hacker-collective-anonymous-declares-cyber-war-against-russia/100861160\n",
            "Upvotes: 127475\n",
            "Comments: 3346\n",
            "--------------------------------------------------\n",
            "Title: President of USA wants to ban advertising targeted toward kids\n",
            "Score: 121363\n",
            "URL: https://www.engadget.com/biden-wants-to-ban-advertising-targeted-toward-kids-052140748.html\n",
            "Upvotes: 121363\n",
            "Comments: 3980\n",
            "--------------------------------------------------\n",
            "Title: If Reddit was half as verbal about net neutrality as they are about Star Wars Battlefront II, then we could stop ISP's and the FCC\n",
            "Score: 121057\n",
            "URL: https://www.reddit.com/r/technology/comments/7dwqv6/if_reddit_was_half_as_verbal_about_net_neutrality/\n",
            "Upvotes: 121057\n",
            "Comments: 2512\n",
            "--------------------------------------------------\n",
            "Title: Comcast is trying to censor our pro-net neutrality website that calls for an investigation into fake FCC comments potentially funded by the cable lobby\n",
            "Score: 114345\n",
            "URL: https://www.reddit.com/r/technology/comments/6cvg82/comcast_is_trying_to_censor_our_pronet_neutrality/\n",
            "Upvotes: 114345\n",
            "Comments: 2473\n",
            "--------------------------------------------------\n"
          ]
        }
      ]
    },
    {
      "cell_type": "code",
      "source": [
        "# Search for posts mentioning \"Competitor Name\" in the given subreddit\n",
        "search_term = \"competitor_name\"\n",
        "for post in reddit.subreddit('technology').search(search_term, limit=10):\n",
        "    print(f\"Title: {post.title}\")\n",
        "    print(f\"URL: {post.url}\")\n",
        "    print(f\"Comments Count: {post.num_comments}\")\n",
        "    print(f\"Post Upvotes: {post.ups}\")\n",
        "    print(\"-\" * 50)\n"
      ],
      "metadata": {
        "colab": {
          "base_uri": "https://localhost:8080/"
        },
        "id": "sUvisWARl3zF",
        "outputId": "ccc0c1b7-31da-41ee-9c6f-7d9710458f01"
      },
      "execution_count": null,
      "outputs": [
        {
          "output_type": "stream",
          "name": "stderr",
          "text": [
            "WARNING:praw:It appears that you are using PRAW in an asynchronous environment.\n",
            "It is strongly recommended to use Async PRAW: https://asyncpraw.readthedocs.io.\n",
            "See https://praw.readthedocs.io/en/latest/getting_started/multiple_instances.html#discord-bots-and-asynchronous-environments for more info.\n",
            "\n"
          ]
        },
        {
          "output_type": "stream",
          "name": "stdout",
          "text": [
            "Title: Amazon has applied for a trademark on a name that sounds like a Youtube competitor\n",
            "URL: http://www.tubefilter.com/2017/12/20/amazon-amazontube-trademark-youtube/\n",
            "Comments Count: 5\n",
            "Post Upvotes: 7\n",
            "--------------------------------------------------\n",
            "Title: Bezos' Health Venture has no name yet but is already embroiled in Litigation - Competitor claims its former exec joined the venture with lots of Secrets, IP in tow.\n",
            "URL: https://arstechnica.com/science/2019/01/bezos-health-venture-has-no-name-yet-but-is-already-embroiled-in-litigation/\n",
            "Comments Count: 1\n",
            "Post Upvotes: 5\n",
            "--------------------------------------------------\n",
            "Title: An objection to \"If you don't like it, don't buy it and \r\n",
            "stop bitching\" reasoning\n",
            "URL: https://www.reddit.com/r/technology/comments/bpjmg/an_objection_to_if_you_dont_like_it_dont_buy_it/\n",
            "Comments Count: 330\n",
            "Post Upvotes: 222\n",
            "--------------------------------------------------\n",
            "Title: Planned obsolesce isn't real - stop perpetuating the myth that it is\n",
            "URL: https://www.reddit.com/r/technology/comments/anwo9o/planned_obsolesce_isnt_real_stop_perpetuating_the/\n",
            "Comments Count: 54\n",
            "Post Upvotes: 0\n",
            "--------------------------------------------------\n",
            "Title: Cispa. FCC Broadband Classification. YOU!\n",
            "URL: https://www.reddit.com/r/technology/comments/2sgsn2/cispa_fcc_broadband_classification_you/\n",
            "Comments Count: 3\n",
            "Post Upvotes: 0\n",
            "--------------------------------------------------\n",
            "Title: (Discussion) Beyond Net Neutrality and Web Based Innovation\n",
            "URL: https://www.reddit.com/r/technology/comments/2rfvim/discussion_beyond_net_neutrality_and_web_based/\n",
            "Comments Count: 2\n",
            "Post Upvotes: 0\n",
            "--------------------------------------------------\n",
            "Title: Spent the last 7 months unemployed, working on a photo sharing app for Android with a friend of mine.  Just launched at the beginning of June.  Stopping now because we're out of money and because Google+ is going to eat our lunch.  Anyone want an account to see what we were working on?\n",
            "URL: https://www.reddit.com/r/technology/comments/idgnt/spent_the_last_7_months_unemployed_working_on_a/\n",
            "Comments Count: 3\n",
            "Post Upvotes: 0\n",
            "--------------------------------------------------\n",
            "Title: Apple CEO Steve Jobs Unhappy With Google And Adobe\n",
            "URL: https://www.reddit.com/r/technology/comments/awnhd/apple_ceo_steve_jobs_unhappy_with_google_and_adobe/\n",
            "Comments Count: 1\n",
            "Post Upvotes: 0\n",
            "--------------------------------------------------\n"
          ]
        }
      ]
    },
    {
      "cell_type": "code",
      "source": [
        "import matplotlib.pyplot as plt\n",
        "from collections import Counter\n",
        "\n",
        "# Example sentiment data from TextBlob\n",
        "sentiments = ['Positive', 'Negative', 'Neutral', 'Positive', 'Negative', 'Positive']\n",
        "\n",
        "# Count sentiment frequencies\n",
        "sentiment_counts = Counter(sentiments)\n",
        "\n",
        "# Plot the results\n",
        "plt.bar(sentiment_counts.keys(), sentiment_counts.values())\n",
        "plt.title(\"Sentiment Distribution for Competitor Mentions\")\n",
        "plt.xlabel(\"Sentiment\")\n",
        "plt.ylabel(\"Frequency\")\n",
        "plt.show()\n"
      ],
      "metadata": {
        "colab": {
          "base_uri": "https://localhost:8080/",
          "height": 472
        },
        "id": "8rxOK2pDmIg9",
        "outputId": "eb18b315-777b-414f-e0d9-d7e0fdb5bc2d"
      },
      "execution_count": null,
      "outputs": [
        {
          "output_type": "display_data",
          "data": {
            "text/plain": [
              "<Figure size 640x480 with 1 Axes>"
            ],
            "image/png": "[encoded data removed]"
          },
          "metadata": {}
        }
      ]
    },
    {
      "cell_type": "code",
      "source": [],
      "metadata": {
        "id": "-ouq-WWomhDV"
      },
      "execution_count": null,
      "outputs": []
    }
  ]
}